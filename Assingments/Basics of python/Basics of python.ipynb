{
 "cells": [
  {
   "cell_type": "code",
   "execution_count": 16,
   "id": "aefe47a8-4637-4fe1-bc6c-627ab7f78525",
   "metadata": {},
   "outputs": [
    {
     "name": "stdin",
     "output_type": "stream",
     "text": [
      "Enter the number 43\n"
     ]
    },
    {
     "name": "stdout",
     "output_type": "stream",
     "text": [
      "Number is prime number\n"
     ]
    }
   ],
   "source": [
    "# Exercise 1: Prime Numbers\n",
    "\n",
    "# Getting the input\n",
    "Number = int(input('Enter the number'))\n",
    "# Assinging default value as true for varible Prime\n",
    "Prime = True\n",
    "# Check for negative number\n",
    "if Number == -1:\n",
    "    Prime = False\n",
    "else:\n",
    "    # Checking for Number divisible by the numbers in range between 2 to number-1\n",
    "    for i in range(2, Number-1):\n",
    "        if Number%i == 0:\n",
    "            Prime = False\n",
    "            break;\n",
    "# excute if block if condition is true\n",
    "if Prime:\n",
    "    print(\"Number is prime number\")\n",
    "# Excute else block if condition failed\n",
    "else:\n",
    "    print(\"Number is not a prime number\")"
   ]
  },
  {
   "cell_type": "code",
   "execution_count": 52,
   "id": "f6138d5a-b4b7-4b08-a122-0d59fa885707",
   "metadata": {},
   "outputs": [
    {
     "name": "stdout",
     "output_type": "stream",
     "text": [
      "4 6\n"
     ]
    },
    {
     "name": "stdin",
     "output_type": "stream",
     "text": [
      "Enter the product of above two numbers 2\n"
     ]
    },
    {
     "name": "stdout",
     "output_type": "stream",
     "text": [
      "Wrong\n"
     ]
    }
   ],
   "source": [
    "# Exercise 2: Product of Random Numbers\n",
    "\n",
    "# Importing random lib\n",
    "import random\n",
    "\n",
    "# Assinging Random1\n",
    "Random1 = random.randint(1,10)\n",
    "# Assinging Random2\n",
    "Random2 = random.randint(1,10)\n",
    "\n",
    "# Multiplying two random values and storing in a variable\n",
    "Product_of_randomvalues = Random1*Random2\n",
    "\n",
    "print(Random1,Random2)\n",
    "\n",
    "User_Enteredvalue = int(input('Enter the product of above two numbers'))\n",
    "# Checking user entered value is correct or not\n",
    "if User_Enteredvalue == Product_of_randomvalues:\n",
    "    print(\"Correct\")\n",
    "else:\n",
    "    print(\"Wrong\")\n"
   ]
  },
  {
   "cell_type": "code",
   "execution_count": 71,
   "id": "d8ec4d29-b58c-4349-a351-90815c50aef2",
   "metadata": {},
   "outputs": [
    {
     "name": "stdout",
     "output_type": "stream",
     "text": [
      "Squares of all odd numbers between the range of 100 to 200\n",
      "Square of 101 = 10201\n",
      "Square of 103 = 10609\n",
      "Square of 105 = 11025\n",
      "Square of 107 = 11449\n",
      "Square of 109 = 11881\n",
      "Square of 111 = 12321\n",
      "Square of 113 = 12769\n",
      "Square of 115 = 13225\n",
      "Square of 117 = 13689\n",
      "Square of 119 = 14161\n",
      "Square of 121 = 14641\n",
      "Square of 123 = 15129\n",
      "Square of 125 = 15625\n",
      "Square of 127 = 16129\n",
      "Square of 129 = 16641\n",
      "Square of 131 = 17161\n",
      "Square of 133 = 17689\n",
      "Square of 135 = 18225\n",
      "Square of 137 = 18769\n",
      "Square of 139 = 19321\n",
      "Square of 141 = 19881\n",
      "Square of 143 = 20449\n",
      "Square of 145 = 21025\n",
      "Square of 147 = 21609\n",
      "Square of 149 = 22201\n",
      "Square of 151 = 22801\n",
      "Square of 153 = 23409\n",
      "Square of 155 = 24025\n",
      "Square of 157 = 24649\n",
      "Square of 159 = 25281\n",
      "Square of 161 = 25921\n",
      "Square of 163 = 26569\n",
      "Square of 165 = 27225\n",
      "Square of 167 = 27889\n",
      "Square of 169 = 28561\n",
      "Square of 171 = 29241\n",
      "Square of 173 = 29929\n",
      "Square of 175 = 30625\n",
      "Square of 177 = 31329\n",
      "Square of 179 = 32041\n",
      "Square of 181 = 32761\n",
      "Square of 183 = 33489\n",
      "Square of 185 = 34225\n",
      "Square of 187 = 34969\n",
      "Square of 189 = 35721\n",
      "Square of 191 = 36481\n",
      "Square of 193 = 37249\n",
      "Square of 195 = 38025\n",
      "Square of 197 = 38809\n",
      "Square of 199 = 39601\n"
     ]
    }
   ],
   "source": [
    "# Exercise 3: Squares of Even/Odd Numbers between the range of 100 to 200\n",
    "\n",
    "print(\"Squares of all odd numbers between the range of 100 to 200\")\n",
    "# Inistalizing the for loop with range between 100 to 200\n",
    "for i in range(100,200):\n",
    "    # Checking for ODD number or not\n",
    "    if(i%2!=0):\n",
    "        # Printing squares of odd numbers\n",
    "        print(\"Square of\",i,\"=\", i*i)"
   ]
  },
  {
   "cell_type": "code",
   "execution_count": 10,
   "id": "13363d1d-64bb-4aba-a195-f6737fd2df67",
   "metadata": {},
   "outputs": [
    {
     "name": "stdin",
     "output_type": "stream",
     "text": [
      "Enter a text:  This is a sample text. this is for check\n"
     ]
    },
    {
     "name": "stdout",
     "output_type": "stream",
     "text": [
      "Word counts:\n",
      "this: 2\n",
      "is: 2\n",
      "a: 1\n",
      "sample: 1\n",
      "text: 1\n",
      "for: 1\n",
      "check: 1\n"
     ]
    }
   ],
   "source": [
    "#Exercise 4: Word counter\n",
    "\n",
    "# defining a function called word_counter\n",
    "def word_counter(text):\n",
    "    # Split the text into words\n",
    "    words = text.split()\n",
    "    # Initialize an empty dictionary to store word counts\n",
    "    word_counts = {}\n",
    "    \n",
    "\n",
    "    # Count the occurrences of each word\n",
    "    for word in words:\n",
    "        \n",
    "        # Remove punctuation and convert to lowercase to ensure consistent counting\n",
    "        word = word.strip('.,!?;:').lower()\n",
    "        \n",
    "        # If the word is present increment the count for the word else add the word in the dict as a key\n",
    "        word_counts[word] = word_counts.get(word, 0) + 1\n",
    "\n",
    "    return word_counts\n",
    "\n",
    "# Getting the input text\n",
    "text = input(\"Enter a text: \")\n",
    "counts = word_counter(text)\n",
    "\n",
    "# Print the word counts\n",
    "print(\"Word counts:\")\n",
    "for word, count in counts.items():\n",
    "    print(f\"{word}: {count}\")\n"
   ]
  },
  {
   "cell_type": "code",
   "execution_count": 101,
   "id": "67837905-4621-48f1-b635-f4cf0a40a8e1",
   "metadata": {},
   "outputs": [
    {
     "name": "stdin",
     "output_type": "stream",
     "text": [
      "Enter a string:  Hannah\n"
     ]
    },
    {
     "data": {
      "text/plain": [
       "True"
      ]
     },
     "execution_count": 101,
     "metadata": {},
     "output_type": "execute_result"
    }
   ],
   "source": [
    "# Exercise 5: Check for Palindrome\n",
    "# defining a function called is_palindrome\n",
    "def is_palindrome(s):\n",
    "    # Remove spaces and convert to lowercase for case-insensitive comparison\n",
    "    s = s.replace(\" \", \"\").lower()\n",
    "    # Compare the string with its reverse\n",
    "    if s == s[::-1]:\n",
    "        return True\n",
    "    else:\n",
    "        return False\n",
    "# Getting the input string\n",
    "string = input(\"Enter a string: \")\n",
    "# Calling is_palindrome function\n",
    "is_palindrome(string)\n"
   ]
  },
  {
   "cell_type": "code",
   "execution_count": null,
   "id": "8577fcfd-47c4-4063-ac4a-68314822fbc2",
   "metadata": {},
   "outputs": [],
   "source": []
  }
 ],
 "metadata": {
  "kernelspec": {
   "display_name": "Python 3 (ipykernel)",
   "language": "python",
   "name": "python3"
  },
  "language_info": {
   "codemirror_mode": {
    "name": "ipython",
    "version": 3
   },
   "file_extension": ".py",
   "mimetype": "text/x-python",
   "name": "python",
   "nbconvert_exporter": "python",
   "pygments_lexer": "ipython3",
   "version": "3.11.7"
  }
 },
 "nbformat": 4,
 "nbformat_minor": 5
}
