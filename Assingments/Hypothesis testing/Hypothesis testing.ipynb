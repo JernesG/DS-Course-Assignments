{
 "cells": [
  {
   "cell_type": "markdown",
   "id": "ccd81fbc-f2ed-454f-94a8-4164335be7c6",
   "metadata": {},
   "source": [
    "HYPOTHESIS TESTING"
   ]
  },
  {
   "cell_type": "code",
   "execution_count": 6,
   "id": "69944e9d-1687-4ba8-9b48-eff0907d10a3",
   "metadata": {},
   "outputs": [],
   "source": [
    "import numpy as np\n",
    "from scipy import stats"
   ]
  },
  {
   "cell_type": "markdown",
   "id": "375df9ff-2503-4ee5-9e63-45b546ee3033",
   "metadata": {},
   "source": [
    "#Given Data\n",
    "* The theoretical weekly operating cost model: W = $1,000 + $5X\n",
    "* Sample of 25 restaurants with a mean weekly cost of Rs. 3,050\n",
    "* Number of units produced in a week (X) follows a normal distribution with a mean (μ) of 600 units and a standard deviation (σ) of 25 units\n",
    "\n",
    "Step 1:State the Hypotheses statement\n",
    "\n",
    "* Null hypothesis(H0) - The Cost model is giving accurate value.\n",
    "* Alternative hypothesis(Ha) - The Cost model is not giving accurate value.\n",
    "\n",
    "Step 2:Calculate the Test Statistic(Z)\n",
    "\n",
    "* We have sufficient values about the population so we can go to Z-test."
   ]
  },
  {
   "cell_type": "code",
   "execution_count": 24,
   "id": "fd2b9d31-6968-4f42-951a-7b347791e2b1",
   "metadata": {},
   "outputs": [],
   "source": [
    "x_bar = 3050\n",
    "mu = 4000 #(W = $1,000 + $5X for X = 600 )\n",
    "sigma = 125 #(σ = 5*25 units)\n",
    "n = 25\n",
    "\n",
    "#Calculate Z-value\n",
    "Z = (x_bar - mu)/(sigma/np.sqrt(n))\n",
    "\n",
    "#We are getting Z value as negative so we need find P value on left tail.\n",
    "\n",
    "#Calulate P value\n",
    "P = stats.norm.cdf(Z,0,1)\n"
   ]
  },
  {
   "cell_type": "code",
   "execution_count": 23,
   "id": "da3939fd-e0f6-4975-be9b-4d22252a27fe",
   "metadata": {},
   "outputs": [
    {
     "name": "stdout",
     "output_type": "stream",
     "text": [
      "-38.0\n",
      "0.0\n",
      "Reject Null hypothesis\n"
     ]
    }
   ],
   "source": [
    "#Step 3 \n",
    "#Significance Level (α): 0.05(Not given so we can take 0.05 as defalut) \n",
    "alpha = 0.05\n",
    "\n",
    "print(Z)\n",
    "print(P)\n",
    "#Step 4\n",
    "#Taking decision based on P-value and alpha value\n",
    "if p<alpha:\n",
    "    print(\"Reject Null hypothesis\")\n",
    "else:\n",
    "    print(\"Failed to reject null hypothesis\")\n"
   ]
  },
  {
   "cell_type": "code",
   "execution_count": null,
   "id": "81155a78-fa36-4cff-bec8-529c33beb666",
   "metadata": {},
   "outputs": [],
   "source": []
  }
 ],
 "metadata": {
  "kernelspec": {
   "display_name": "Python 3 (ipykernel)",
   "language": "python",
   "name": "python3"
  },
  "language_info": {
   "codemirror_mode": {
    "name": "ipython",
    "version": 3
   },
   "file_extension": ".py",
   "mimetype": "text/x-python",
   "name": "python",
   "nbconvert_exporter": "python",
   "pygments_lexer": "ipython3",
   "version": "3.11.7"
  }
 },
 "nbformat": 4,
 "nbformat_minor": 5
}
