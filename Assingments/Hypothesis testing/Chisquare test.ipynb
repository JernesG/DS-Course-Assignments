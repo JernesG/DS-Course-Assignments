{
 "cells": [
  {
   "cell_type": "markdown",
   "id": "4d6ad429-09db-445a-8b25-ea6d0ec04cd5",
   "metadata": {},
   "source": [
    "Chisquare test\n"
   ]
  },
  {
   "cell_type": "markdown",
   "id": "de6414e8-6f58-41b4-a584-8259f68c6eda",
   "metadata": {},
   "source": [
    "First will do manual calculation.\n",
    "\n",
    "Step 1: Define Null and Alternative Hypothesis.\n",
    "\n",
    "NULL hypothesis(H0): There is no association between Smart Thermostat and Smart Light.\n",
    "Alternative Hypothesis(Ha): There is an association between Smart Thermostat and Smart Light.\n"
   ]
  },
  {
   "cell_type": "code",
   "execution_count": 12,
   "id": "232d0fe7-ee4c-4fdd-9e16-7d03e24e62a6",
   "metadata": {},
   "outputs": [],
   "source": [
    "#Step 2: Build Contingency Table.(Table is already given as input)\n",
    "from scipy import stats\n",
    "Cell_1 = 50\n",
    "Cell_2 = 70\n",
    "Cell_3 = 80\n",
    "Cell_4 = 100\n",
    "Cell_5 = 60\n",
    "Cell_6 = 90\n",
    "Cell_7 = 30\n",
    "Cell_8 = 50\n",
    "Cell_9 = 20\n",
    "Cell_10 = 50\n",
    "#Calculate margins total\n",
    "#Sum of row values\n",
    "\n",
    "row_1 = 120\n",
    "row_2 = 180\n",
    "row_3 = 150\n",
    "row_4 = 80\n",
    "row_5 = 70\n",
    "\n",
    "#Sum of col values\n",
    "\n",
    "col_1 = 240\n",
    "col_2 = 360\n",
    "\n",
    "#Sum of Sum of row and Sum of col\n",
    "\n",
    "total = 600\n"
   ]
  },
  {
   "cell_type": "code",
   "execution_count": 13,
   "id": "50aa58c9-22d8-40c3-ae82-abd7e3a6d5a6",
   "metadata": {},
   "outputs": [],
   "source": [
    "#Step 3: Calculate Expected frequencies\n",
    "\n",
    "#E = total of row * total of col / total\n",
    "\n",
    "E1 = row_1*col_1/total\n",
    "E2 = row_1*col_2/total\n",
    "E3 = row_2*col_1/total\n",
    "E4 = row_2*col_2/total\n",
    "E5 = row_3*col_1/total\n",
    "E6 = row_3*col_2/total\n",
    "E7 = row_4*col_1/total\n",
    "E8 = row_4*col_2/total\n",
    "E9 = row_5*col_1/total\n",
    "E10 = row_5*col_2/total\n"
   ]
  },
  {
   "cell_type": "code",
   "execution_count": 31,
   "id": "aec1d6f9-9aab-4d2f-bf65-1e3843733d41",
   "metadata": {},
   "outputs": [
    {
     "name": "stdout",
     "output_type": "stream",
     "text": [
      "5.638227513227513\n"
     ]
    }
   ],
   "source": [
    "#Step 4: Compute Chi-Square \n",
    "\n",
    "#Chi-Square = (Cell_1_value - E1)/E1+(Cell_2_value - E2)/E2+....(Cell_n_value - En)/En\n",
    "\n",
    "Chi_Square = (Cell_1-E1)**2/E1+(Cell_2-E2)**2/E2+(Cell_3-E3)**2/E3+(Cell_4-E4)**2/E4+(Cell_5-E5)**2/E5+(Cell_6-E6)**2/E6+(Cell_7-E7)**2/E7+(Cell_8-E8)**2/E8+(Cell_9-E9)**2/E9+(Cell_10-E10)**2/E10\n"
   ]
  },
  {
   "cell_type": "code",
   "execution_count": 16,
   "id": "1e2ba6db-ccb9-4fe9-bbc6-a607fe0bfcb6",
   "metadata": {},
   "outputs": [
    {
     "data": {
      "text/plain": [
       "4"
      ]
     },
     "execution_count": 16,
     "metadata": {},
     "output_type": "execute_result"
    }
   ],
   "source": [
    "#Step 5: Determine DF\n",
    "No_of_row=5\n",
    "No_of_col=2\n",
    "df =(No_of_row-1)*(No_of_col-1)\n"
   ]
  },
  {
   "cell_type": "code",
   "execution_count": 32,
   "id": "17e6d730-4a89-403a-8bf5-74699aa2ffbf",
   "metadata": {},
   "outputs": [
    {
     "name": "stdout",
     "output_type": "stream",
     "text": [
      "0.22784371130697179\n"
     ]
    }
   ],
   "source": [
    "#Step 6:Calculate the p-value\n",
    "p =1-stats.chi2.cdf(Chi_Square, df)\n",
    "\n"
   ]
  },
  {
   "cell_type": "code",
   "execution_count": 38,
   "id": "9e9556a0-e6fc-4f67-9510-d645ff57de63",
   "metadata": {},
   "outputs": [
    {
     "name": "stdout",
     "output_type": "stream",
     "text": [
      "Chi-Square Value: 5.638227513227513\n",
      "DOF: 4\n",
      "P_Value: 0.22784371130697179\n",
      "Decision:Independent (H0 holds true)\n"
     ]
    }
   ],
   "source": [
    "#Step 7:Make dicison\n",
    "alpha=0.05\n",
    "print(\"Chi-Square Value:\",Chi_Square)\n",
    "print(\"DOF:\",df)\n",
    "print(\"P_Value:\",p)\n",
    "\n",
    "if p<alpha:\n",
    "    print('Decision: Dependent (reject H0)')\n",
    "else:\n",
    "    print('Decision:Independent (H0 holds true)')"
   ]
  },
  {
   "cell_type": "code",
   "execution_count": 39,
   "id": "f83c5d2a-07a6-4173-aeb0-4fcb0bd616ff",
   "metadata": {},
   "outputs": [
    {
     "name": "stdout",
     "output_type": "stream",
     "text": [
      "Chi_Square_Value: 5.638227513227513\n",
      "DOF: 4\n",
      "P_Value: 0.22784371130697179\n",
      "Decision:Independent (H0 holds true)\n"
     ]
    }
   ],
   "source": [
    "#lets see Inbuilt function for Chi_Square\n",
    "\n",
    "from scipy.stats import chi2_contingency\n",
    "#Assingning contingency table\n",
    "d = [[50,70],[80,100],[60,90],[30,50],[20,50]]\n",
    "#Using the below function we can find all needed values to make the dicision\n",
    "stat, P, dof, expected = chi2_contingency(d)\n",
    "print(\"Chi_Square_Value:\",stat)\n",
    "print(\"DOF:\",dof)\n",
    "print(\"P_Value:\",P)\n",
    "# interpret p-value\n",
    "alpha = 0.05\n",
    "if p < alpha:\n",
    "    print('Decision:Dependent (reject H0)')\n",
    "else:\n",
    "    print('Decision:Independent (H0 holds true)')"
   ]
  },
  {
   "cell_type": "code",
   "execution_count": null,
   "id": "444eff04-ee27-46dd-832e-8b877b9eb54c",
   "metadata": {},
   "outputs": [],
   "source": []
  },
  {
   "cell_type": "code",
   "execution_count": null,
   "id": "6b73870a-586e-40d5-b5c1-f1e79d87aab4",
   "metadata": {},
   "outputs": [],
   "source": []
  }
 ],
 "metadata": {
  "kernelspec": {
   "display_name": "Python 3 (ipykernel)",
   "language": "python",
   "name": "python3"
  },
  "language_info": {
   "codemirror_mode": {
    "name": "ipython",
    "version": 3
   },
   "file_extension": ".py",
   "mimetype": "text/x-python",
   "name": "python",
   "nbconvert_exporter": "python",
   "pygments_lexer": "ipython3",
   "version": "3.11.7"
  }
 },
 "nbformat": 4,
 "nbformat_minor": 5
}
