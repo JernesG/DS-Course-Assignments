{
 "cells": [
  {
   "cell_type": "code",
   "execution_count": 10,
   "id": "85630627-0288-4204-a263-f23803dfeb84",
   "metadata": {},
   "outputs": [],
   "source": [
    "import numpy as np\n",
    "from tensorflow.keras.models import Sequential\n",
    "from tensorflow.keras.layers import Dense\n",
    "\n",
    "from sklearn.model_selection import GridSearchCV\n",
    "from sklearn.datasets import load_iris\n",
    "from sklearn.model_selection import train_test_split\n",
    "from sklearn.preprocessing import LabelEncoder"
   ]
  },
  {
   "cell_type": "code",
   "execution_count": 5,
   "id": "2c7647a9-937e-4307-8356-2c17f76b629a",
   "metadata": {},
   "outputs": [
    {
     "name": "stdout",
     "output_type": "stream",
     "text": [
      "Requirement already satisfied: tensorflow in c:\\users\\gjernes\\appdata\\local\\anaconda3_\\lib\\site-packages (2.14.0)\n",
      "Requirement already satisfied: scikit-learn in c:\\users\\gjernes\\appdata\\local\\anaconda3_\\lib\\site-packages (1.2.2)\n",
      "Requirement already satisfied: tensorflow-intel==2.14.0 in c:\\users\\gjernes\\appdata\\local\\anaconda3_\\lib\\site-packages (from tensorflow) (2.14.0)\n",
      "Requirement already satisfied: absl-py>=1.0.0 in c:\\users\\gjernes\\appdata\\local\\anaconda3_\\lib\\site-packages (from tensorflow-intel==2.14.0->tensorflow) (2.1.0)\n",
      "Requirement already satisfied: astunparse>=1.6.0 in c:\\users\\gjernes\\appdata\\local\\anaconda3_\\lib\\site-packages (from tensorflow-intel==2.14.0->tensorflow) (1.6.3)\n",
      "Requirement already satisfied: flatbuffers>=23.5.26 in c:\\users\\gjernes\\appdata\\local\\anaconda3_\\lib\\site-packages (from tensorflow-intel==2.14.0->tensorflow) (24.3.25)\n",
      "Requirement already satisfied: gast!=0.5.0,!=0.5.1,!=0.5.2,>=0.2.1 in c:\\users\\gjernes\\appdata\\local\\anaconda3_\\lib\\site-packages (from tensorflow-intel==2.14.0->tensorflow) (0.6.0)\n",
      "Requirement already satisfied: google-pasta>=0.1.1 in c:\\users\\gjernes\\appdata\\local\\anaconda3_\\lib\\site-packages (from tensorflow-intel==2.14.0->tensorflow) (0.2.0)\n",
      "Requirement already satisfied: h5py>=2.9.0 in c:\\users\\gjernes\\appdata\\local\\anaconda3_\\lib\\site-packages (from tensorflow-intel==2.14.0->tensorflow) (3.9.0)\n",
      "Requirement already satisfied: libclang>=13.0.0 in c:\\users\\gjernes\\appdata\\local\\anaconda3_\\lib\\site-packages (from tensorflow-intel==2.14.0->tensorflow) (18.1.1)\n",
      "Requirement already satisfied: ml-dtypes==0.2.0 in c:\\users\\gjernes\\appdata\\local\\anaconda3_\\lib\\site-packages (from tensorflow-intel==2.14.0->tensorflow) (0.2.0)\n",
      "Requirement already satisfied: numpy>=1.23.5 in c:\\users\\gjernes\\appdata\\local\\anaconda3_\\lib\\site-packages (from tensorflow-intel==2.14.0->tensorflow) (1.26.4)\n",
      "Requirement already satisfied: opt-einsum>=2.3.2 in c:\\users\\gjernes\\appdata\\local\\anaconda3_\\lib\\site-packages (from tensorflow-intel==2.14.0->tensorflow) (3.3.0)\n",
      "Requirement already satisfied: packaging in c:\\users\\gjernes\\appdata\\local\\anaconda3_\\lib\\site-packages (from tensorflow-intel==2.14.0->tensorflow) (23.1)\n",
      "Requirement already satisfied: protobuf!=4.21.0,!=4.21.1,!=4.21.2,!=4.21.3,!=4.21.4,!=4.21.5,<5.0.0dev,>=3.20.3 in c:\\users\\gjernes\\appdata\\local\\anaconda3_\\lib\\site-packages (from tensorflow-intel==2.14.0->tensorflow) (3.20.3)\n",
      "Requirement already satisfied: setuptools in c:\\users\\gjernes\\appdata\\local\\anaconda3_\\lib\\site-packages (from tensorflow-intel==2.14.0->tensorflow) (68.2.2)\n",
      "Requirement already satisfied: six>=1.12.0 in c:\\users\\gjernes\\appdata\\local\\anaconda3_\\lib\\site-packages (from tensorflow-intel==2.14.0->tensorflow) (1.16.0)\n",
      "Requirement already satisfied: termcolor>=1.1.0 in c:\\users\\gjernes\\appdata\\local\\anaconda3_\\lib\\site-packages (from tensorflow-intel==2.14.0->tensorflow) (2.4.0)\n",
      "Requirement already satisfied: typing-extensions>=3.6.6 in c:\\users\\gjernes\\appdata\\local\\anaconda3_\\lib\\site-packages (from tensorflow-intel==2.14.0->tensorflow) (4.9.0)\n",
      "Requirement already satisfied: wrapt<1.15,>=1.11.0 in c:\\users\\gjernes\\appdata\\local\\anaconda3_\\lib\\site-packages (from tensorflow-intel==2.14.0->tensorflow) (1.14.1)\n",
      "Requirement already satisfied: tensorflow-io-gcs-filesystem>=0.23.1 in c:\\users\\gjernes\\appdata\\local\\anaconda3_\\lib\\site-packages (from tensorflow-intel==2.14.0->tensorflow) (0.31.0)\n",
      "Requirement already satisfied: grpcio<2.0,>=1.24.3 in c:\\users\\gjernes\\appdata\\local\\anaconda3_\\lib\\site-packages (from tensorflow-intel==2.14.0->tensorflow) (1.64.1)\n",
      "Requirement already satisfied: tensorboard<2.15,>=2.14 in c:\\users\\gjernes\\appdata\\local\\anaconda3_\\lib\\site-packages (from tensorflow-intel==2.14.0->tensorflow) (2.14.1)\n",
      "Requirement already satisfied: tensorflow-estimator<2.15,>=2.14.0 in c:\\users\\gjernes\\appdata\\local\\anaconda3_\\lib\\site-packages (from tensorflow-intel==2.14.0->tensorflow) (2.14.0)\n",
      "Requirement already satisfied: keras<2.15,>=2.14.0 in c:\\users\\gjernes\\appdata\\local\\anaconda3_\\lib\\site-packages (from tensorflow-intel==2.14.0->tensorflow) (2.14.0)\n",
      "Requirement already satisfied: scipy>=1.3.2 in c:\\users\\gjernes\\appdata\\local\\anaconda3_\\lib\\site-packages (from scikit-learn) (1.11.4)\n",
      "Requirement already satisfied: joblib>=1.1.1 in c:\\users\\gjernes\\appdata\\local\\anaconda3_\\lib\\site-packages (from scikit-learn) (1.2.0)\n",
      "Requirement already satisfied: threadpoolctl>=2.0.0 in c:\\users\\gjernes\\appdata\\local\\anaconda3_\\lib\\site-packages (from scikit-learn) (2.2.0)\n",
      "Requirement already satisfied: wheel<1.0,>=0.23.0 in c:\\users\\gjernes\\appdata\\local\\anaconda3_\\lib\\site-packages (from astunparse>=1.6.0->tensorflow-intel==2.14.0->tensorflow) (0.41.2)\n",
      "Requirement already satisfied: google-auth<3,>=1.6.3 in c:\\users\\gjernes\\appdata\\local\\anaconda3_\\lib\\site-packages (from tensorboard<2.15,>=2.14->tensorflow-intel==2.14.0->tensorflow) (2.32.0)\n",
      "Requirement already satisfied: google-auth-oauthlib<1.1,>=0.5 in c:\\users\\gjernes\\appdata\\local\\anaconda3_\\lib\\site-packages (from tensorboard<2.15,>=2.14->tensorflow-intel==2.14.0->tensorflow) (1.0.0)\n",
      "Requirement already satisfied: markdown>=2.6.8 in c:\\users\\gjernes\\appdata\\local\\anaconda3_\\lib\\site-packages (from tensorboard<2.15,>=2.14->tensorflow-intel==2.14.0->tensorflow) (3.4.1)\n",
      "Requirement already satisfied: requests<3,>=2.21.0 in c:\\users\\gjernes\\appdata\\local\\anaconda3_\\lib\\site-packages (from tensorboard<2.15,>=2.14->tensorflow-intel==2.14.0->tensorflow) (2.31.0)\n",
      "Requirement already satisfied: tensorboard-data-server<0.8.0,>=0.7.0 in c:\\users\\gjernes\\appdata\\local\\anaconda3_\\lib\\site-packages (from tensorboard<2.15,>=2.14->tensorflow-intel==2.14.0->tensorflow) (0.7.2)\n",
      "Requirement already satisfied: werkzeug>=1.0.1 in c:\\users\\gjernes\\appdata\\local\\anaconda3_\\lib\\site-packages (from tensorboard<2.15,>=2.14->tensorflow-intel==2.14.0->tensorflow) (2.2.3)\n",
      "Requirement already satisfied: cachetools<6.0,>=2.0.0 in c:\\users\\gjernes\\appdata\\local\\anaconda3_\\lib\\site-packages (from google-auth<3,>=1.6.3->tensorboard<2.15,>=2.14->tensorflow-intel==2.14.0->tensorflow) (4.2.2)\n",
      "Requirement already satisfied: pyasn1-modules>=0.2.1 in c:\\users\\gjernes\\appdata\\local\\anaconda3_\\lib\\site-packages (from google-auth<3,>=1.6.3->tensorboard<2.15,>=2.14->tensorflow-intel==2.14.0->tensorflow) (0.2.8)\n",
      "Requirement already satisfied: rsa<5,>=3.1.4 in c:\\users\\gjernes\\appdata\\local\\anaconda3_\\lib\\site-packages (from google-auth<3,>=1.6.3->tensorboard<2.15,>=2.14->tensorflow-intel==2.14.0->tensorflow) (4.9)\n",
      "Requirement already satisfied: requests-oauthlib>=0.7.0 in c:\\users\\gjernes\\appdata\\local\\anaconda3_\\lib\\site-packages (from google-auth-oauthlib<1.1,>=0.5->tensorboard<2.15,>=2.14->tensorflow-intel==2.14.0->tensorflow) (2.0.0)\n",
      "Requirement already satisfied: charset-normalizer<4,>=2 in c:\\users\\gjernes\\appdata\\local\\anaconda3_\\lib\\site-packages (from requests<3,>=2.21.0->tensorboard<2.15,>=2.14->tensorflow-intel==2.14.0->tensorflow) (2.0.4)\n",
      "Requirement already satisfied: idna<4,>=2.5 in c:\\users\\gjernes\\appdata\\local\\anaconda3_\\lib\\site-packages (from requests<3,>=2.21.0->tensorboard<2.15,>=2.14->tensorflow-intel==2.14.0->tensorflow) (3.4)\n",
      "Requirement already satisfied: urllib3<3,>=1.21.1 in c:\\users\\gjernes\\appdata\\local\\anaconda3_\\lib\\site-packages (from requests<3,>=2.21.0->tensorboard<2.15,>=2.14->tensorflow-intel==2.14.0->tensorflow) (2.0.7)\n",
      "Requirement already satisfied: certifi>=2017.4.17 in c:\\users\\gjernes\\appdata\\local\\anaconda3_\\lib\\site-packages (from requests<3,>=2.21.0->tensorboard<2.15,>=2.14->tensorflow-intel==2.14.0->tensorflow) (2024.2.2)\n",
      "Requirement already satisfied: MarkupSafe>=2.1.1 in c:\\users\\gjernes\\appdata\\local\\anaconda3_\\lib\\site-packages (from werkzeug>=1.0.1->tensorboard<2.15,>=2.14->tensorflow-intel==2.14.0->tensorflow) (2.1.3)\n",
      "Requirement already satisfied: pyasn1<0.5.0,>=0.4.6 in c:\\users\\gjernes\\appdata\\local\\anaconda3_\\lib\\site-packages (from pyasn1-modules>=0.2.1->google-auth<3,>=1.6.3->tensorboard<2.15,>=2.14->tensorflow-intel==2.14.0->tensorflow) (0.4.8)\n",
      "Requirement already satisfied: oauthlib>=3.0.0 in c:\\users\\gjernes\\appdata\\local\\anaconda3_\\lib\\site-packages (from requests-oauthlib>=0.7.0->google-auth-oauthlib<1.1,>=0.5->tensorboard<2.15,>=2.14->tensorflow-intel==2.14.0->tensorflow) (3.2.2)\n",
      "Note: you may need to restart the kernel to use updated packages.\n"
     ]
    }
   ],
   "source": [
    "pip install tensorflow scikit-learn"
   ]
  },
  {
   "cell_type": "code",
   "execution_count": 8,
   "id": "5a97589e-5412-4bc9-93b7-b263d5c03794",
   "metadata": {},
   "outputs": [
    {
     "name": "stdout",
     "output_type": "stream",
     "text": [
      "Collecting scikeras\n",
      "  Downloading scikeras-0.13.0-py3-none-any.whl.metadata (3.1 kB)\n",
      "Requirement already satisfied: keras>=3.2.0 in c:\\users\\gjernes\\appdata\\local\\anaconda3_\\lib\\site-packages (from scikeras) (3.4.1)\n",
      "Collecting scikit-learn>=1.4.2 (from scikeras)\n",
      "  Downloading scikit_learn-1.5.1-cp311-cp311-win_amd64.whl.metadata (12 kB)\n",
      "Requirement already satisfied: absl-py in c:\\users\\gjernes\\appdata\\local\\anaconda3_\\lib\\site-packages (from keras>=3.2.0->scikeras) (2.1.0)\n",
      "Requirement already satisfied: numpy in c:\\users\\gjernes\\appdata\\local\\anaconda3_\\lib\\site-packages (from keras>=3.2.0->scikeras) (1.26.4)\n",
      "Requirement already satisfied: rich in c:\\users\\gjernes\\appdata\\local\\anaconda3_\\lib\\site-packages (from keras>=3.2.0->scikeras) (13.3.5)\n",
      "Requirement already satisfied: namex in c:\\users\\gjernes\\appdata\\local\\anaconda3_\\lib\\site-packages (from keras>=3.2.0->scikeras) (0.0.8)\n",
      "Requirement already satisfied: h5py in c:\\users\\gjernes\\appdata\\local\\anaconda3_\\lib\\site-packages (from keras>=3.2.0->scikeras) (3.11.0)\n",
      "Requirement already satisfied: optree in c:\\users\\gjernes\\appdata\\local\\anaconda3_\\lib\\site-packages (from keras>=3.2.0->scikeras) (0.12.1)\n",
      "Requirement already satisfied: ml-dtypes in c:\\users\\gjernes\\appdata\\local\\anaconda3_\\lib\\site-packages (from keras>=3.2.0->scikeras) (0.4.0)\n",
      "Requirement already satisfied: packaging in c:\\users\\gjernes\\appdata\\local\\anaconda3_\\lib\\site-packages (from keras>=3.2.0->scikeras) (23.1)\n",
      "Requirement already satisfied: scipy>=1.6.0 in c:\\users\\gjernes\\appdata\\local\\anaconda3_\\lib\\site-packages (from scikit-learn>=1.4.2->scikeras) (1.11.4)\n",
      "Requirement already satisfied: joblib>=1.2.0 in c:\\users\\gjernes\\appdata\\local\\anaconda3_\\lib\\site-packages (from scikit-learn>=1.4.2->scikeras) (1.2.0)\n",
      "Collecting threadpoolctl>=3.1.0 (from scikit-learn>=1.4.2->scikeras)\n",
      "  Downloading threadpoolctl-3.5.0-py3-none-any.whl.metadata (13 kB)\n",
      "Requirement already satisfied: typing-extensions>=4.5.0 in c:\\users\\gjernes\\appdata\\local\\anaconda3_\\lib\\site-packages (from optree->keras>=3.2.0->scikeras) (4.9.0)\n",
      "Requirement already satisfied: markdown-it-py<3.0.0,>=2.2.0 in c:\\users\\gjernes\\appdata\\local\\anaconda3_\\lib\\site-packages (from rich->keras>=3.2.0->scikeras) (2.2.0)\n",
      "Requirement already satisfied: pygments<3.0.0,>=2.13.0 in c:\\users\\gjernes\\appdata\\local\\anaconda3_\\lib\\site-packages (from rich->keras>=3.2.0->scikeras) (2.15.1)\n",
      "Requirement already satisfied: mdurl~=0.1 in c:\\users\\gjernes\\appdata\\local\\anaconda3_\\lib\\site-packages (from markdown-it-py<3.0.0,>=2.2.0->rich->keras>=3.2.0->scikeras) (0.1.0)\n",
      "Downloading scikeras-0.13.0-py3-none-any.whl (26 kB)\n",
      "Downloading scikit_learn-1.5.1-cp311-cp311-win_amd64.whl (11.0 MB)\n",
      "   ---------------------------------------- 0.0/11.0 MB ? eta -:--:--\n",
      "   ---------------------------------------- 0.1/11.0 MB ? eta -:--:--\n",
      "    --------------------------------------- 0.2/11.0 MB 3.9 MB/s eta 0:00:03\n",
      "   - -------------------------------------- 0.3/11.0 MB 2.7 MB/s eta 0:00:04\n",
      "   - -------------------------------------- 0.4/11.0 MB 2.3 MB/s eta 0:00:05\n",
      "   -- ------------------------------------- 0.6/11.0 MB 2.8 MB/s eta 0:00:04\n",
      "   --- ------------------------------------ 0.9/11.0 MB 3.7 MB/s eta 0:00:03\n",
      "   ----- ---------------------------------- 1.5/11.0 MB 4.9 MB/s eta 0:00:02\n",
      "   ------- -------------------------------- 2.0/11.0 MB 6.2 MB/s eta 0:00:02\n",
      "   --------- ------------------------------ 2.6/11.0 MB 6.8 MB/s eta 0:00:02\n",
      "   ----------- ---------------------------- 3.1/11.0 MB 7.3 MB/s eta 0:00:02\n",
      "   ------------ --------------------------- 3.4/11.0 MB 7.3 MB/s eta 0:00:02\n",
      "   ------------- -------------------------- 3.7/11.0 MB 7.5 MB/s eta 0:00:01\n",
      "   ------------- -------------------------- 3.7/11.0 MB 6.8 MB/s eta 0:00:02\n",
      "   --------------- ------------------------ 4.4/11.0 MB 7.3 MB/s eta 0:00:01\n",
      "   ---------------- ----------------------- 4.4/11.0 MB 6.7 MB/s eta 0:00:01\n",
      "   ---------------- ----------------------- 4.5/11.0 MB 6.4 MB/s eta 0:00:02\n",
      "   ---------------- ----------------------- 4.6/11.0 MB 6.5 MB/s eta 0:00:01\n",
      "   ----------------- ---------------------- 4.8/11.0 MB 6.3 MB/s eta 0:00:01\n",
      "   ------------------ --------------------- 5.0/11.0 MB 6.1 MB/s eta 0:00:01\n",
      "   ------------------- -------------------- 5.4/11.0 MB 6.2 MB/s eta 0:00:01\n",
      "   ------------------- -------------------- 5.4/11.0 MB 6.2 MB/s eta 0:00:01\n",
      "   ------------------- -------------------- 5.4/11.0 MB 6.2 MB/s eta 0:00:01\n",
      "   ---------------------- ----------------- 6.2/11.0 MB 6.3 MB/s eta 0:00:01\n",
      "   ---------------------- ----------------- 6.2/11.0 MB 6.3 MB/s eta 0:00:01\n",
      "   ---------------------- ----------------- 6.2/11.0 MB 6.3 MB/s eta 0:00:01\n",
      "   ---------------------- ----------------- 6.2/11.0 MB 6.3 MB/s eta 0:00:01\n",
      "   ---------------------- ----------------- 6.2/11.0 MB 5.3 MB/s eta 0:00:01\n",
      "   ---------------------- ----------------- 6.2/11.0 MB 5.3 MB/s eta 0:00:01\n",
      "   ---------------------- ----------------- 6.2/11.0 MB 5.3 MB/s eta 0:00:01\n",
      "   ---------------------- ----------------- 6.2/11.0 MB 4.9 MB/s eta 0:00:01\n",
      "   ---------------------- ----------------- 6.3/11.0 MB 4.7 MB/s eta 0:00:02\n",
      "   ----------------------- ---------------- 6.4/11.0 MB 4.6 MB/s eta 0:00:02\n",
      "   ----------------------- ---------------- 6.5/11.0 MB 4.5 MB/s eta 0:00:02\n",
      "   ----------------------- ---------------- 6.5/11.0 MB 4.4 MB/s eta 0:00:02\n",
      "   ------------------------- -------------- 6.9/11.0 MB 4.5 MB/s eta 0:00:01\n",
      "   -------------------------- ------------- 7.3/11.0 MB 4.6 MB/s eta 0:00:01\n",
      "   ---------------------------- ----------- 7.8/11.0 MB 4.8 MB/s eta 0:00:01\n",
      "   ----------------------------- ---------- 8.2/11.0 MB 4.9 MB/s eta 0:00:01\n",
      "   ------------------------------- -------- 8.7/11.0 MB 5.0 MB/s eta 0:00:01\n",
      "   --------------------------------- ------ 9.2/11.0 MB 5.2 MB/s eta 0:00:01\n",
      "   ----------------------------------- ---- 9.7/11.0 MB 5.4 MB/s eta 0:00:01\n",
      "   ----------------------------------- ---- 9.9/11.0 MB 5.4 MB/s eta 0:00:01\n",
      "   ----------------------------------- ---- 9.9/11.0 MB 5.4 MB/s eta 0:00:01\n",
      "   -------------------------------------- - 10.6/11.0 MB 5.7 MB/s eta 0:00:01\n",
      "   -------------------------------------- - 10.6/11.0 MB 5.6 MB/s eta 0:00:01\n",
      "   -------------------------------------- - 10.6/11.0 MB 5.5 MB/s eta 0:00:01\n",
      "   ---------------------------------------  10.8/11.0 MB 5.4 MB/s eta 0:00:01\n",
      "   ---------------------------------------  11.0/11.0 MB 5.4 MB/s eta 0:00:01\n",
      "   ---------------------------------------  11.0/11.0 MB 5.4 MB/s eta 0:00:01\n",
      "   ---------------------------------------  11.0/11.0 MB 5.4 MB/s eta 0:00:01\n",
      "   ---------------------------------------- 11.0/11.0 MB 5.0 MB/s eta 0:00:00\n",
      "Downloading threadpoolctl-3.5.0-py3-none-any.whl (18 kB)\n",
      "Installing collected packages: threadpoolctl, scikit-learn, scikeras\n",
      "  Attempting uninstall: threadpoolctl\n",
      "    Found existing installation: threadpoolctl 2.2.0\n",
      "    Uninstalling threadpoolctl-2.2.0:\n",
      "      Successfully uninstalled threadpoolctl-2.2.0\n",
      "  Attempting uninstall: scikit-learn\n",
      "    Found existing installation: scikit-learn 1.2.2\n",
      "    Uninstalling scikit-learn-1.2.2:\n",
      "      Successfully uninstalled scikit-learn-1.2.2\n",
      "Successfully installed scikeras-0.13.0 scikit-learn-1.5.1 threadpoolctl-3.5.0\n",
      "Note: you may need to restart the kernel to use updated packages.\n"
     ]
    },
    {
     "name": "stderr",
     "output_type": "stream",
     "text": [
      "  WARNING: Failed to remove contents in a temporary directory 'C:\\Users\\gjernes\\AppData\\Local\\anaconda3_\\Lib\\site-packages\\~klearn'.\n",
      "  You can safely remove it manually.\n"
     ]
    }
   ],
   "source": [
    "pip install scikeras"
   ]
  },
  {
   "cell_type": "code",
   "execution_count": 12,
   "id": "650fe91d-22f1-45b6-8b8b-e32f44d657ea",
   "metadata": {},
   "outputs": [],
   "source": [
    "from scikeras.wrappers import KerasClassifier"
   ]
  },
  {
   "cell_type": "code",
   "execution_count": null,
   "id": "5c5b2c44-f303-4087-a717-51ffd1c8bee3",
   "metadata": {},
   "outputs": [],
   "source": []
  }
 ],
 "metadata": {
  "kernelspec": {
   "display_name": "Python 3 (ipykernel)",
   "language": "python",
   "name": "python3"
  },
  "language_info": {
   "codemirror_mode": {
    "name": "ipython",
    "version": 3
   },
   "file_extension": ".py",
   "mimetype": "text/x-python",
   "name": "python",
   "nbconvert_exporter": "python",
   "pygments_lexer": "ipython3",
   "version": "3.11.7"
  }
 },
 "nbformat": 4,
 "nbformat_minor": 5
}
