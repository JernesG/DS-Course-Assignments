{
 "cells": [
  {
   "cell_type": "code",
   "execution_count": 13,
   "id": "9a2c306a-b6cd-48a4-8b11-5546791de20d",
   "metadata": {},
   "outputs": [],
   "source": [
    "import pandas as pd\n",
    "import numpy as np\n",
    "from scipy import stats"
   ]
  },
  {
   "cell_type": "markdown",
   "id": "5d7ac49b-1395-4cae-803a-c1a53fb826d3",
   "metadata": {},
   "source": [
    "Given data\n",
    "\n",
    "* Sample size(n) = 15\n",
    "* Sample data(Data) = [1.13, 1.55, 1.43, 0.92, 1.25, 1.36, 1.32, 0.85, 1.07, 1.48, 1.20, 1.33, 1.18, 1.22, 1.29]\n",
    "* Population_std = 0.02\n",
    "* confidence level = 0.99"
   ]
  },
  {
   "cell_type": "code",
   "execution_count": 50,
   "id": "ed0b2e85-a513-42cb-837c-e4e86b3b8822",
   "metadata": {},
   "outputs": [
    {
     "name": "stdout",
     "output_type": "stream",
     "text": [
      "Building 99% Confidence Interval Using Sample Standard Deviationl: (1.105129201241073, 1.3722041320922602)\n"
     ]
    }
   ],
   "source": [
    "#A.Building 99% Confidence Interval Using Sample Standard Deviation\n",
    "\n",
    "# Given sample data\n",
    "Data = [1.13, 1.55, 1.43, 0.92, 1.25, 1.36, 1.32, 0.85, 1.07, 1.48, 1.20, 1.33, 1.18, 1.22, 1.29]\n",
    "# Length of sample data\n",
    "n = len(Data)\n",
    "# Sample mean\n",
    "x_bar = np.mean(Data)\n",
    "# Sample standard deviation\n",
    "std = np.std(Data)\n",
    "# Confidence level\n",
    "confidence_level = 0.99\n",
    "#Alpha\n",
    "alpha = (1-confidence_level)/2\n",
    "# Degrees of freedom\n",
    "df=n-1\n",
    "# t-score for the 99% confidence interval\n",
    "t_score = stats.t.ppf(confidence_level+(alpha/2) , df)\n",
    "# Margin of error\n",
    "margin_of_error = t_score * (std / np.sqrt(n))\n",
    "# Confidence interval\n",
    "confidence_interval = (x_bar - margin_of_error, x_bar + margin_of_error)\n",
    "\n",
    "# Print results\n",
    "print(\"Building 99% Confidence Interval Using Sample Standard Deviationl:\",confidence_interval)"
   ]
  },
  {
   "cell_type": "code",
   "execution_count": 51,
   "id": "28b47a48-ac17-43ec-b198-6fcdb7fcd3af",
   "metadata": {},
   "outputs": [
    {
     "name": "stdout",
     "output_type": "stream",
     "text": [
      "99% Confidence Interval Using Known Population Standard Deviationl: (1.1056514133957607, 1.3716819199375725)\n"
     ]
    }
   ],
   "source": [
    "#Build 99% Confidence Interval Using Known Population Standard Deviation\n",
    "\n",
    "# Given sample data\n",
    "Data = [1.13, 1.55, 1.43, 0.92, 1.25, 1.36, 1.32, 0.85, 1.07, 1.48, 1.20, 1.33, 1.18, 1.22, 1.29]\n",
    "# Length of sample data\n",
    "n = len(Data)\n",
    "# Sample mean\n",
    "x_bar = np.mean(Data)\n",
    "# Sample standard deviation\n",
    "Population_std = 0.2\n",
    "# Confidence level\n",
    "confidence_level = 0.99\n",
    "#Alpha\n",
    "alpha = (1-confidence_level)/2\n",
    "# Degrees of freedom\n",
    "df=n-1\n",
    "# Z-score for the 99% confidence interval\n",
    "Z_score = stats.norm.ppf(1-alpha,0,1)\n",
    "# Margin of error\n",
    "margin_of_error = Z_score * (Population_std / np.sqrt(n))\n",
    "# Confidence interval\n",
    "confidence_interval = (x_bar - margin_of_error, x_bar + margin_of_error)\n",
    "# Print results\n",
    "print(\"99% Confidence Interval Using Known Population Standard Deviationl:\",confidence_interval)"
   ]
  },
  {
   "cell_type": "code",
   "execution_count": null,
   "id": "3da9ae46-71f3-4740-bd07-8ebd385ff0f9",
   "metadata": {},
   "outputs": [],
   "source": []
  }
 ],
 "metadata": {
  "kernelspec": {
   "display_name": "Python 3 (ipykernel)",
   "language": "python",
   "name": "python3"
  },
  "language_info": {
   "codemirror_mode": {
    "name": "ipython",
    "version": 3
   },
   "file_extension": ".py",
   "mimetype": "text/x-python",
   "name": "python",
   "nbconvert_exporter": "python",
   "pygments_lexer": "ipython3",
   "version": "3.11.7"
  }
 },
 "nbformat": 4,
 "nbformat_minor": 5
}
